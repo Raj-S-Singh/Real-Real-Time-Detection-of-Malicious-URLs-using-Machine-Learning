{
 "metadata": {
  "language_info": {
   "codemirror_mode": {
    "name": "ipython",
    "version": 3
   },
   "file_extension": ".py",
   "mimetype": "text/x-python",
   "name": "python",
   "nbconvert_exporter": "python",
   "pygments_lexer": "ipython3",
   "version": "3.7.4-final"
  },
  "orig_nbformat": 2,
  "kernelspec": {
   "name": "python3",
   "display_name": "Python 3"
  }
 },
 "nbformat": 4,
 "nbformat_minor": 2,
 "cells": [
  {
   "source": [
    "# Import Libraries"
   ],
   "cell_type": "markdown",
   "metadata": {}
  },
  {
   "cell_type": "code",
   "execution_count": 3,
   "metadata": {},
   "outputs": [],
   "source": [
    "\n",
    "# Graphing capabilities\n",
    "import matplotlib.pyplot as plt\n",
    "\n",
    "# Data management\n",
    "import pandas as pd\n",
    "import numpy as np\n",
    "\n",
    "# Normalization\n",
    "from keras.utils import normalize, to_categorical"
   ]
  },
  {
   "source": [
    "# Load Dataset"
   ],
   "cell_type": "markdown",
   "metadata": {}
  },
  {
   "cell_type": "code",
   "execution_count": 4,
   "metadata": {},
   "outputs": [
    {
     "output_type": "execute_result",
     "data": {
      "text/plain": [
       "   Querylength  domain_token_count  path_token_count  avgdomaintokenlen  \\\n",
       "0            0                   4                 5                5.5   \n",
       "1            0                   4                 5                5.5   \n",
       "2            0                   4                 5                5.5   \n",
       "3            0                   4                12                5.5   \n",
       "4            0                   4                 6                5.5   \n",
       "\n",
       "   longdomaintokenlen  avgpathtokenlen  tld  charcompvowels  charcompace  \\\n",
       "0                  14         4.400000    4               8            3   \n",
       "1                  14         6.000000    4              12            4   \n",
       "2                  14         5.800000    4              12            5   \n",
       "3                  14         5.500000    4              32           16   \n",
       "4                  14         7.333334    4              18           11   \n",
       "\n",
       "   ldl_url  ...  SymbolCount_FileName  SymbolCount_Extension  \\\n",
       "0        0  ...                     1                      0   \n",
       "1        0  ...                     0                      0   \n",
       "2        0  ...                     0                      0   \n",
       "3        0  ...                     0                      0   \n",
       "4        0  ...                     0                      0   \n",
       "\n",
       "   SymbolCount_Afterpath  Entropy_URL  Entropy_Domain  Entropy_DirectoryName  \\\n",
       "0                     -1     0.726298        0.784493               0.894886   \n",
       "1                     -1     0.688635        0.784493               0.814725   \n",
       "2                     -1     0.695049        0.784493               0.814725   \n",
       "3                     -1     0.640130        0.784493               0.814725   \n",
       "4                     -1     0.681307        0.784493               0.814725   \n",
       "\n",
       "   Entropy_Filename  Entropy_Extension  Entropy_Afterpath  URL_Type_obf_Type  \n",
       "0          0.850608                NaN               -1.0         Defacement  \n",
       "1          0.859793                0.0               -1.0         Defacement  \n",
       "2          0.801880                0.0               -1.0         Defacement  \n",
       "3          0.663210                0.0               -1.0         Defacement  \n",
       "4          0.804526                0.0               -1.0         Defacement  \n",
       "\n",
       "[5 rows x 80 columns]"
      ],
      "text/html": "<div>\n<style scoped>\n    .dataframe tbody tr th:only-of-type {\n        vertical-align: middle;\n    }\n\n    .dataframe tbody tr th {\n        vertical-align: top;\n    }\n\n    .dataframe thead th {\n        text-align: right;\n    }\n</style>\n<table border=\"1\" class=\"dataframe\">\n  <thead>\n    <tr style=\"text-align: right;\">\n      <th></th>\n      <th>Querylength</th>\n      <th>domain_token_count</th>\n      <th>path_token_count</th>\n      <th>avgdomaintokenlen</th>\n      <th>longdomaintokenlen</th>\n      <th>avgpathtokenlen</th>\n      <th>tld</th>\n      <th>charcompvowels</th>\n      <th>charcompace</th>\n      <th>ldl_url</th>\n      <th>...</th>\n      <th>SymbolCount_FileName</th>\n      <th>SymbolCount_Extension</th>\n      <th>SymbolCount_Afterpath</th>\n      <th>Entropy_URL</th>\n      <th>Entropy_Domain</th>\n      <th>Entropy_DirectoryName</th>\n      <th>Entropy_Filename</th>\n      <th>Entropy_Extension</th>\n      <th>Entropy_Afterpath</th>\n      <th>URL_Type_obf_Type</th>\n    </tr>\n  </thead>\n  <tbody>\n    <tr>\n      <th>0</th>\n      <td>0</td>\n      <td>4</td>\n      <td>5</td>\n      <td>5.5</td>\n      <td>14</td>\n      <td>4.400000</td>\n      <td>4</td>\n      <td>8</td>\n      <td>3</td>\n      <td>0</td>\n      <td>...</td>\n      <td>1</td>\n      <td>0</td>\n      <td>-1</td>\n      <td>0.726298</td>\n      <td>0.784493</td>\n      <td>0.894886</td>\n      <td>0.850608</td>\n      <td>NaN</td>\n      <td>-1.0</td>\n      <td>Defacement</td>\n    </tr>\n    <tr>\n      <th>1</th>\n      <td>0</td>\n      <td>4</td>\n      <td>5</td>\n      <td>5.5</td>\n      <td>14</td>\n      <td>6.000000</td>\n      <td>4</td>\n      <td>12</td>\n      <td>4</td>\n      <td>0</td>\n      <td>...</td>\n      <td>0</td>\n      <td>0</td>\n      <td>-1</td>\n      <td>0.688635</td>\n      <td>0.784493</td>\n      <td>0.814725</td>\n      <td>0.859793</td>\n      <td>0.0</td>\n      <td>-1.0</td>\n      <td>Defacement</td>\n    </tr>\n    <tr>\n      <th>2</th>\n      <td>0</td>\n      <td>4</td>\n      <td>5</td>\n      <td>5.5</td>\n      <td>14</td>\n      <td>5.800000</td>\n      <td>4</td>\n      <td>12</td>\n      <td>5</td>\n      <td>0</td>\n      <td>...</td>\n      <td>0</td>\n      <td>0</td>\n      <td>-1</td>\n      <td>0.695049</td>\n      <td>0.784493</td>\n      <td>0.814725</td>\n      <td>0.801880</td>\n      <td>0.0</td>\n      <td>-1.0</td>\n      <td>Defacement</td>\n    </tr>\n    <tr>\n      <th>3</th>\n      <td>0</td>\n      <td>4</td>\n      <td>12</td>\n      <td>5.5</td>\n      <td>14</td>\n      <td>5.500000</td>\n      <td>4</td>\n      <td>32</td>\n      <td>16</td>\n      <td>0</td>\n      <td>...</td>\n      <td>0</td>\n      <td>0</td>\n      <td>-1</td>\n      <td>0.640130</td>\n      <td>0.784493</td>\n      <td>0.814725</td>\n      <td>0.663210</td>\n      <td>0.0</td>\n      <td>-1.0</td>\n      <td>Defacement</td>\n    </tr>\n    <tr>\n      <th>4</th>\n      <td>0</td>\n      <td>4</td>\n      <td>6</td>\n      <td>5.5</td>\n      <td>14</td>\n      <td>7.333334</td>\n      <td>4</td>\n      <td>18</td>\n      <td>11</td>\n      <td>0</td>\n      <td>...</td>\n      <td>0</td>\n      <td>0</td>\n      <td>-1</td>\n      <td>0.681307</td>\n      <td>0.784493</td>\n      <td>0.814725</td>\n      <td>0.804526</td>\n      <td>0.0</td>\n      <td>-1.0</td>\n      <td>Defacement</td>\n    </tr>\n  </tbody>\n</table>\n<p>5 rows × 80 columns</p>\n</div>"
     },
     "metadata": {},
     "execution_count": 4
    }
   ],
   "source": [
    "df=pd.read_csv(\"ISCXURL2016\\FinalDataset\\All.csv\")\n",
    "df.head()"
   ]
  },
  {
   "cell_type": "code",
   "execution_count": 5,
   "metadata": {},
   "outputs": [
    {
     "output_type": "stream",
     "name": "stdout",
     "text": [
      "There are 80 columns and 36707 rows in the provided data.\nDefacement    7930\nbenign        7781\nphishing      7586\nmalware       6712\nspam          6698\nName: URL_Type_obf_Type, dtype: int64\n"
     ]
    }
   ],
   "source": [
    "# Dataset with null values\n",
    "print('There are {} columns and {} rows in the provided data.'.format(len(df.columns), len(df)))\n",
    "dep_var = 'URL_Type_obf_Type'\n",
    "print(df[dep_var].value_counts())"
   ]
  },
  {
   "cell_type": "code",
   "execution_count": 6,
   "metadata": {},
   "outputs": [],
   "source": [
    "df.dropna(axis='index', inplace=True)"
   ]
  },
  {
   "cell_type": "code",
   "execution_count": 7,
   "metadata": {},
   "outputs": [
    {
     "output_type": "stream",
     "name": "stdout",
     "text": [
      "There are 80 columns and 18982 rows in the provided data.\nspam          5342\nmalware       4440\nphishing      4014\nbenign        2709\nDefacement    2477\nName: URL_Type_obf_Type, dtype: int64\n"
     ]
    }
   ],
   "source": [
    "# Dataset without null values\n",
    "print('There are {} columns and {} rows in the provided data.'.format(len(df.columns), len(df)))\n",
    "dep_var = 'URL_Type_obf_Type'\n",
    "print(df[dep_var].value_counts())"
   ]
  },
  {
   "source": [
    "## Convert to Binary Classification"
   ],
   "cell_type": "markdown",
   "metadata": {}
  },
  {
   "cell_type": "code",
   "execution_count": 8,
   "metadata": {},
   "outputs": [
    {
     "output_type": "stream",
     "name": "stdout",
     "text": [
      "Before conversion:\nspam          5342\nmalware       4440\nphishing      4014\nbenign        2709\nDefacement    2477\nName: URL_Type_obf_Type, dtype: int64\nAfter conversion:\nmalicious    16273\nbenign        2709\nName: URL_Type_obf_Type, dtype: int64\n"
     ]
    }
   ],
   "source": [
    "# Convert the dataset to binary class problem\n",
    "X = normalize( df.loc[:, df.columns != dep_var] )\n",
    "y = df[dep_var]\n",
    "\n",
    "print('Before conversion:')\n",
    "print(y.value_counts())\n",
    "\n",
    "y = y.map(lambda label : label if label == 'benign' else 'malicious')\n",
    "\n",
    "print('After conversion:')\n",
    "print(y.value_counts())"
   ]
  }
 ]
}