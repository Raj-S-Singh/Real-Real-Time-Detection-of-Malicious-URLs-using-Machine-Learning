{
 "metadata": {
  "language_info": {
   "codemirror_mode": {
    "name": "ipython",
    "version": 3
   },
   "file_extension": ".py",
   "mimetype": "text/x-python",
   "name": "python",
   "nbconvert_exporter": "python",
   "pygments_lexer": "ipython3",
   "version": "3.6.9-final"
  },
  "orig_nbformat": 2,
  "kernelspec": {
   "name": "python3",
   "display_name": "Python 3"
  }
 },
 "nbformat": 4,
 "nbformat_minor": 2,
 "cells": [
  {
   "cell_type": "code",
   "execution_count": 1,
   "metadata": {},
   "outputs": [],
   "source": [
    "# Feature selection \n",
    "from sklearn.feature_selection import SelectKBest\n",
    "from sklearn.feature_selection import chi2\n",
    "from sklearn.preprocessing import MinMaxScaler\n",
    "\n",
    "# Data management\n",
    "import pandas as pd\n",
    "import numpy as np"
   ]
  },
  {
   "cell_type": "code",
   "execution_count": 3,
   "metadata": {},
   "outputs": [
    {
     "output_type": "execute_result",
     "data": {
      "text/plain": [
       "       Querylength  domain_token_count  path_token_count  avgdomaintokenlen  \\\n",
       "0                0                   4                 5           5.500000   \n",
       "1                0                   4                 5           5.500000   \n",
       "2                0                   4                 5           5.500000   \n",
       "3                0                   4                12           5.500000   \n",
       "4                0                   4                 6           5.500000   \n",
       "...            ...                 ...               ...                ...   \n",
       "36702           29                   4                14           5.750000   \n",
       "36703            0                   4                13           3.750000   \n",
       "36704           58                   3                27           6.666666   \n",
       "36705           35                   3                13           4.333334   \n",
       "36706           40                   3                25           6.666666   \n",
       "\n",
       "       longdomaintokenlen  avgpathtokenlen  tld  charcompvowels  charcompace  \\\n",
       "0                      14         4.400000    4               8            3   \n",
       "1                      14         6.000000    4              12            4   \n",
       "2                      14         5.800000    4              12            5   \n",
       "3                      14         5.500000    4              32           16   \n",
       "4                      14         7.333334    4              18           11   \n",
       "...                   ...              ...  ...             ...          ...   \n",
       "36702                  12         3.666667    4              20           24   \n",
       "36703                   8         8.461538    4              24           23   \n",
       "36704                  16         3.375000    3              41           34   \n",
       "36705                   9         3.600000    3              15           13   \n",
       "36706                  16         3.250000    3              35           31   \n",
       "\n",
       "       ldl_url  ...  SymbolCount_FileName  SymbolCount_Extension  \\\n",
       "0            0  ...                     1                      0   \n",
       "1            0  ...                     0                      0   \n",
       "2            0  ...                     0                      0   \n",
       "3            0  ...                     0                      0   \n",
       "4            0  ...                     0                      0   \n",
       "...        ...  ...                   ...                    ...   \n",
       "36702        3  ...                     3                      2   \n",
       "36703        0  ...                    16                     15   \n",
       "36704       20  ...                     8                      7   \n",
       "36705        7  ...                     9                      8   \n",
       "36706       19  ...                     7                      6   \n",
       "\n",
       "       SymbolCount_Afterpath  Entropy_URL  Entropy_Domain  \\\n",
       "0                         -1     0.726298        0.784493   \n",
       "1                         -1     0.688635        0.784493   \n",
       "2                         -1     0.695049        0.784493   \n",
       "3                         -1     0.640130        0.784493   \n",
       "4                         -1     0.681307        0.784493   \n",
       "...                      ...          ...             ...   \n",
       "36702                      7     0.690555        0.791265   \n",
       "36703                     -1     0.665492        0.820010   \n",
       "36704                      9     0.656807        0.801139   \n",
       "36705                      3     0.725963        0.897617   \n",
       "36706                      7     0.674351        0.801139   \n",
       "\n",
       "       Entropy_DirectoryName  Entropy_Filename  Entropy_Extension  \\\n",
       "0                   0.894886          0.850608                NaN   \n",
       "1                   0.814725          0.859793           0.000000   \n",
       "2                   0.814725          0.801880           0.000000   \n",
       "3                   0.814725          0.663210           0.000000   \n",
       "4                   0.814725          0.804526           0.000000   \n",
       "...                      ...               ...                ...   \n",
       "36702               0.777498          0.690227           0.656684   \n",
       "36703               0.879588          0.674400           0.674671   \n",
       "36704               0.684777          0.713622           0.717187   \n",
       "36705               0.871049          0.745932           0.758824   \n",
       "36706               0.697282          0.730563           0.731481   \n",
       "\n",
       "       Entropy_Afterpath  URL_Type_obf_Type  \n",
       "0              -1.000000         Defacement  \n",
       "1              -1.000000         Defacement  \n",
       "2              -1.000000         Defacement  \n",
       "3              -1.000000         Defacement  \n",
       "4              -1.000000         Defacement  \n",
       "...                  ...                ...  \n",
       "36702           0.796205               spam  \n",
       "36703          -1.000000               spam  \n",
       "36704           0.705245               spam  \n",
       "36705           0.790772               spam  \n",
       "36706           0.769238               spam  \n",
       "\n",
       "[36707 rows x 80 columns]"
      ],
      "text/html": "<div>\n<style scoped>\n    .dataframe tbody tr th:only-of-type {\n        vertical-align: middle;\n    }\n\n    .dataframe tbody tr th {\n        vertical-align: top;\n    }\n\n    .dataframe thead th {\n        text-align: right;\n    }\n</style>\n<table border=\"1\" class=\"dataframe\">\n  <thead>\n    <tr style=\"text-align: right;\">\n      <th></th>\n      <th>Querylength</th>\n      <th>domain_token_count</th>\n      <th>path_token_count</th>\n      <th>avgdomaintokenlen</th>\n      <th>longdomaintokenlen</th>\n      <th>avgpathtokenlen</th>\n      <th>tld</th>\n      <th>charcompvowels</th>\n      <th>charcompace</th>\n      <th>ldl_url</th>\n      <th>...</th>\n      <th>SymbolCount_FileName</th>\n      <th>SymbolCount_Extension</th>\n      <th>SymbolCount_Afterpath</th>\n      <th>Entropy_URL</th>\n      <th>Entropy_Domain</th>\n      <th>Entropy_DirectoryName</th>\n      <th>Entropy_Filename</th>\n      <th>Entropy_Extension</th>\n      <th>Entropy_Afterpath</th>\n      <th>URL_Type_obf_Type</th>\n    </tr>\n  </thead>\n  <tbody>\n    <tr>\n      <th>0</th>\n      <td>0</td>\n      <td>4</td>\n      <td>5</td>\n      <td>5.500000</td>\n      <td>14</td>\n      <td>4.400000</td>\n      <td>4</td>\n      <td>8</td>\n      <td>3</td>\n      <td>0</td>\n      <td>...</td>\n      <td>1</td>\n      <td>0</td>\n      <td>-1</td>\n      <td>0.726298</td>\n      <td>0.784493</td>\n      <td>0.894886</td>\n      <td>0.850608</td>\n      <td>NaN</td>\n      <td>-1.000000</td>\n      <td>Defacement</td>\n    </tr>\n    <tr>\n      <th>1</th>\n      <td>0</td>\n      <td>4</td>\n      <td>5</td>\n      <td>5.500000</td>\n      <td>14</td>\n      <td>6.000000</td>\n      <td>4</td>\n      <td>12</td>\n      <td>4</td>\n      <td>0</td>\n      <td>...</td>\n      <td>0</td>\n      <td>0</td>\n      <td>-1</td>\n      <td>0.688635</td>\n      <td>0.784493</td>\n      <td>0.814725</td>\n      <td>0.859793</td>\n      <td>0.000000</td>\n      <td>-1.000000</td>\n      <td>Defacement</td>\n    </tr>\n    <tr>\n      <th>2</th>\n      <td>0</td>\n      <td>4</td>\n      <td>5</td>\n      <td>5.500000</td>\n      <td>14</td>\n      <td>5.800000</td>\n      <td>4</td>\n      <td>12</td>\n      <td>5</td>\n      <td>0</td>\n      <td>...</td>\n      <td>0</td>\n      <td>0</td>\n      <td>-1</td>\n      <td>0.695049</td>\n      <td>0.784493</td>\n      <td>0.814725</td>\n      <td>0.801880</td>\n      <td>0.000000</td>\n      <td>-1.000000</td>\n      <td>Defacement</td>\n    </tr>\n    <tr>\n      <th>3</th>\n      <td>0</td>\n      <td>4</td>\n      <td>12</td>\n      <td>5.500000</td>\n      <td>14</td>\n      <td>5.500000</td>\n      <td>4</td>\n      <td>32</td>\n      <td>16</td>\n      <td>0</td>\n      <td>...</td>\n      <td>0</td>\n      <td>0</td>\n      <td>-1</td>\n      <td>0.640130</td>\n      <td>0.784493</td>\n      <td>0.814725</td>\n      <td>0.663210</td>\n      <td>0.000000</td>\n      <td>-1.000000</td>\n      <td>Defacement</td>\n    </tr>\n    <tr>\n      <th>4</th>\n      <td>0</td>\n      <td>4</td>\n      <td>6</td>\n      <td>5.500000</td>\n      <td>14</td>\n      <td>7.333334</td>\n      <td>4</td>\n      <td>18</td>\n      <td>11</td>\n      <td>0</td>\n      <td>...</td>\n      <td>0</td>\n      <td>0</td>\n      <td>-1</td>\n      <td>0.681307</td>\n      <td>0.784493</td>\n      <td>0.814725</td>\n      <td>0.804526</td>\n      <td>0.000000</td>\n      <td>-1.000000</td>\n      <td>Defacement</td>\n    </tr>\n    <tr>\n      <th>...</th>\n      <td>...</td>\n      <td>...</td>\n      <td>...</td>\n      <td>...</td>\n      <td>...</td>\n      <td>...</td>\n      <td>...</td>\n      <td>...</td>\n      <td>...</td>\n      <td>...</td>\n      <td>...</td>\n      <td>...</td>\n      <td>...</td>\n      <td>...</td>\n      <td>...</td>\n      <td>...</td>\n      <td>...</td>\n      <td>...</td>\n      <td>...</td>\n      <td>...</td>\n      <td>...</td>\n    </tr>\n    <tr>\n      <th>36702</th>\n      <td>29</td>\n      <td>4</td>\n      <td>14</td>\n      <td>5.750000</td>\n      <td>12</td>\n      <td>3.666667</td>\n      <td>4</td>\n      <td>20</td>\n      <td>24</td>\n      <td>3</td>\n      <td>...</td>\n      <td>3</td>\n      <td>2</td>\n      <td>7</td>\n      <td>0.690555</td>\n      <td>0.791265</td>\n      <td>0.777498</td>\n      <td>0.690227</td>\n      <td>0.656684</td>\n      <td>0.796205</td>\n      <td>spam</td>\n    </tr>\n    <tr>\n      <th>36703</th>\n      <td>0</td>\n      <td>4</td>\n      <td>13</td>\n      <td>3.750000</td>\n      <td>8</td>\n      <td>8.461538</td>\n      <td>4</td>\n      <td>24</td>\n      <td>23</td>\n      <td>0</td>\n      <td>...</td>\n      <td>16</td>\n      <td>15</td>\n      <td>-1</td>\n      <td>0.665492</td>\n      <td>0.820010</td>\n      <td>0.879588</td>\n      <td>0.674400</td>\n      <td>0.674671</td>\n      <td>-1.000000</td>\n      <td>spam</td>\n    </tr>\n    <tr>\n      <th>36704</th>\n      <td>58</td>\n      <td>3</td>\n      <td>27</td>\n      <td>6.666666</td>\n      <td>16</td>\n      <td>3.375000</td>\n      <td>3</td>\n      <td>41</td>\n      <td>34</td>\n      <td>20</td>\n      <td>...</td>\n      <td>8</td>\n      <td>7</td>\n      <td>9</td>\n      <td>0.656807</td>\n      <td>0.801139</td>\n      <td>0.684777</td>\n      <td>0.713622</td>\n      <td>0.717187</td>\n      <td>0.705245</td>\n      <td>spam</td>\n    </tr>\n    <tr>\n      <th>36705</th>\n      <td>35</td>\n      <td>3</td>\n      <td>13</td>\n      <td>4.333334</td>\n      <td>9</td>\n      <td>3.600000</td>\n      <td>3</td>\n      <td>15</td>\n      <td>13</td>\n      <td>7</td>\n      <td>...</td>\n      <td>9</td>\n      <td>8</td>\n      <td>3</td>\n      <td>0.725963</td>\n      <td>0.897617</td>\n      <td>0.871049</td>\n      <td>0.745932</td>\n      <td>0.758824</td>\n      <td>0.790772</td>\n      <td>spam</td>\n    </tr>\n    <tr>\n      <th>36706</th>\n      <td>40</td>\n      <td>3</td>\n      <td>25</td>\n      <td>6.666666</td>\n      <td>16</td>\n      <td>3.250000</td>\n      <td>3</td>\n      <td>35</td>\n      <td>31</td>\n      <td>19</td>\n      <td>...</td>\n      <td>7</td>\n      <td>6</td>\n      <td>7</td>\n      <td>0.674351</td>\n      <td>0.801139</td>\n      <td>0.697282</td>\n      <td>0.730563</td>\n      <td>0.731481</td>\n      <td>0.769238</td>\n      <td>spam</td>\n    </tr>\n  </tbody>\n</table>\n<p>36707 rows × 80 columns</p>\n</div>"
     },
     "metadata": {},
     "execution_count": 3
    }
   ],
   "source": [
    "df=pd.read_csv(\"./ISCXURL2016/FinalDataset/All.csv\")\n",
    "df"
   ]
  },
  {
   "cell_type": "code",
   "execution_count": 63,
   "metadata": {},
   "outputs": [
    {
     "output_type": "stream",
     "name": "stdout",
     "text": [
      "There are 80 columns and 36707 rows in the provided data.\n"
     ]
    }
   ],
   "source": [
    "dep_var = 'URL_Type_obf_Type'\n",
    "\n",
    "print('There are {} columns and {} rows in the provided data.'.format(len(df.columns), len(df)))"
   ]
  },
  {
   "cell_type": "code",
   "execution_count": 64,
   "metadata": {},
   "outputs": [
    {
     "output_type": "stream",
     "name": "stdout",
     "text": [
      "Below is the dataset's composition\nDefacement    7930\nbenign        7781\nphishing      7586\nmalware       6712\nspam          6698\nName: URL_Type_obf_Type, dtype: int64\n"
     ]
    }
   ],
   "source": [
    "print('Below is the dataset\\'s composition')\n",
    "print(df[dep_var].value_counts())"
   ]
  },
  {
   "cell_type": "code",
   "execution_count": 65,
   "metadata": {},
   "outputs": [],
   "source": [
    "# Removes all rows if they contain NaN values\n",
    "df.dropna(axis='index', inplace=True)"
   ]
  },
  {
   "cell_type": "code",
   "execution_count": 66,
   "metadata": {},
   "outputs": [
    {
     "output_type": "stream",
     "name": "stdout",
     "text": [
      "There are 80 columns and 18982 rows in the provided data.\nBelow is the dataset's composition\nspam          5342\nmalware       4440\nphishing      4014\nbenign        2709\nDefacement    2477\nName: URL_Type_obf_Type, dtype: int64\n"
     ]
    }
   ],
   "source": [
    "print('There are {} columns and {} rows in the provided data.'.format(len(df.columns), len(df)))\n",
    "\n",
    "print('Below is the dataset\\'s composition')\n",
    "print(df[dep_var].value_counts())"
   ]
  },
  {
   "cell_type": "code",
   "execution_count": 67,
   "metadata": {},
   "outputs": [],
   "source": [
    " #Create the X (data) and y (labels)\n",
    "\n",
    "scaler = MinMaxScaler()\n",
    "X = pd.DataFrame( scaler.fit_transform(df.loc[:, df.columns != dep_var]), columns=df.columns[:-1] )\n",
    "\n",
    "y = df[dep_var]"
   ]
  },
  {
   "cell_type": "code",
   "execution_count": 68,
   "metadata": {},
   "outputs": [],
   "source": [
    "# Begin the feature selection process using the SelectKBest object from scikit-learn\n",
    "X_new = SelectKBest(chi2, k=10).fit_transform(X, y)"
   ]
  },
  {
   "source": [
    "## Binary Class Feature Analysis"
   ],
   "cell_type": "markdown",
   "metadata": {}
  },
  {
   "cell_type": "code",
   "execution_count": 69,
   "metadata": {},
   "outputs": [
    {
     "output_type": "stream",
     "name": "stdout",
     "text": [
      "malicious    16273\nbenign        2709\nName: URL_Type_obf_Type, dtype: int64\n"
     ]
    }
   ],
   "source": [
    "y = y.map(lambda label : label if label == 'benign' else 'malicious')\n",
    "print(y.value_counts())"
   ]
  },
  {
   "cell_type": "code",
   "execution_count": 75,
   "metadata": {},
   "outputs": [
    {
     "output_type": "stream",
     "name": "stdout",
     "text": [
      "Values in order of descending p-values (higher=less significant)\nIndex(['avgdomaintokenlen', 'charcompvowels', 'Path_LongestWordLength',\n       'sub-Directory_LongestWordLength', 'NumberRate_URL', 'dld_domain',\n       'pathDomainRatio', 'Directory_LetterCount', 'isPortEighty',\n       'Entropy_URL', 'ldl_domain', 'charcompace', 'avgpathtokenlen',\n       'Arguments_LongestWordLength', 'spcharUrl', 'executable', 'subDirLen',\n       'pathLength', 'Domain_LongestWordLength', 'SymbolCount_Afterpath',\n       'URL_sensitiveWord', 'LongestPathTokenLength', 'urlLen',\n       'URL_Letter_Count', 'longdomaintokenlen', 'delimeter_Domain',\n       'URL_DigitCount', 'host_letter_count', 'pathurlRatio',\n       'SymbolCount_Extension', 'host_DigitCount', 'SymbolCount_FileName',\n       'argDomanRatio', 'delimeter_Count', 'URLQueries_variable',\n       'ldl_filename', 'Directory_DigitCount', 'path_token_count',\n       'Entropy_Domain', 'NumberofDotsinURL', 'domainlength',\n       'Extension_LetterCount', 'LongestVariableValue', 'Query_LetterCount',\n       'File_name_DigitCount', 'Querylength', 'this.fileExtLen', 'ArgLen',\n       'SymbolCount_Directoryname', 'ldl_path', 'ldl_url', 'dld_url',\n       'Query_DigitCount', 'SymbolCount_URL', 'ldl_getArg', 'dld_path',\n       'domainUrlRatio', 'NumberRate_Domain', 'Extension_DigitCount',\n       'dld_filename', 'NumberRate_DirectoryName', 'CharacterContinuityRate',\n       'dld_getArg', 'NumberRate_FileName', 'ArgUrlRatio', 'Entropy_Extension',\n       'NumberRate_Extension', 'NumberRate_AfterPath', 'Filename_LetterCount',\n       'Entropy_DirectoryName', 'Entropy_Filename', 'argPathRatio',\n       'delimeter_path', 'Entropy_Afterpath', 'SymbolCount_Domain', 'tld',\n       'domain_token_count', 'fileNameLen', 'ISIpAddressInDomainName'],\n      dtype='object')\n"
     ]
    }
   ],
   "source": [
    "# Additions of another work found here: https://towardsdatascience.com/chi-square-test-for-feature-selection-in-machine-learning-206b1f0b8223\n",
    "chi_scores = chi2(X, y)\n",
    "p_values = pd.Series(chi_scores[1],index = X.columns)\n",
    "p_values.sort_values(ascending = False , inplace = True)\n",
    "#p_values.plot.bar()\n",
    "print('Values in order of descending p-values (higher=less significant)')\n",
    "print(p_values.index)"
   ]
  },
  {
   "cell_type": "code",
   "execution_count": 71,
   "metadata": {},
   "outputs": [
    {
     "output_type": "execute_result",
     "data": {
      "text/plain": [
       "fileNameLen                        315.468000\n",
       "domain_token_count                 182.159714\n",
       "tld                                182.159714\n",
       "SymbolCount_Domain                 182.108985\n",
       "Entropy_Afterpath                  180.600186\n",
       "                                      ...    \n",
       "sub-Directory_LongestWordLength      0.294764\n",
       "Path_LongestWordLength               0.027297\n",
       "charcompvowels                       0.012376\n",
       "avgdomaintokenlen                    0.000075\n",
       "ISIpAddressInDomainName                   NaN\n",
       "Length: 79, dtype: float64"
      ]
     },
     "metadata": {},
     "execution_count": 71
    }
   ],
   "source": [
    "chi_sq_values=pd.Series(chi_scores[0],index = X.columns)\n",
    "chi_sq_values.sort_values(ascending=False,inplace=True)\n",
    "chi_sq_values\n",
    "#chi_sq_values.index"
   ]
  },
  {
   "cell_type": "code",
   "execution_count": 72,
   "metadata": {},
   "outputs": [
    {
     "output_type": "execute_result",
     "data": {
      "text/plain": [
       "Index(['fileNameLen', 'domain_token_count', 'tld', 'SymbolCount_Domain',\n",
       "       'Entropy_Afterpath', 'delimeter_path', 'argPathRatio',\n",
       "       'Entropy_Filename', 'Entropy_DirectoryName', 'Filename_LetterCount',\n",
       "       'NumberRate_AfterPath', 'NumberRate_Extension', 'Entropy_Extension',\n",
       "       'ArgUrlRatio', 'NumberRate_FileName', 'dld_getArg',\n",
       "       'CharacterContinuityRate', 'NumberRate_DirectoryName', 'dld_filename',\n",
       "       'Extension_DigitCount', 'NumberRate_Domain', 'domainUrlRatio',\n",
       "       'dld_path', 'ldl_getArg', 'SymbolCount_URL', 'Query_DigitCount',\n",
       "       'dld_url', 'ldl_url', 'ldl_path', 'SymbolCount_Directoryname', 'ArgLen',\n",
       "       'this.fileExtLen', 'Querylength', 'File_name_DigitCount',\n",
       "       'Query_LetterCount', 'LongestVariableValue', 'Extension_LetterCount',\n",
       "       'domainlength', 'NumberofDotsinURL', 'Entropy_Domain',\n",
       "       'path_token_count', 'Directory_DigitCount', 'ldl_filename',\n",
       "       'URLQueries_variable', 'delimeter_Count', 'argDomanRatio',\n",
       "       'SymbolCount_FileName', 'host_DigitCount', 'SymbolCount_Extension',\n",
       "       'pathurlRatio', 'host_letter_count', 'URL_DigitCount',\n",
       "       'delimeter_Domain', 'longdomaintokenlen', 'URL_Letter_Count', 'urlLen',\n",
       "       'LongestPathTokenLength', 'URL_sensitiveWord', 'SymbolCount_Afterpath',\n",
       "       'Domain_LongestWordLength', 'subDirLen', 'pathLength', 'executable',\n",
       "       'spcharUrl', 'Arguments_LongestWordLength', 'avgpathtokenlen',\n",
       "       'charcompace'],\n",
       "      dtype='object')"
      ]
     },
     "metadata": {},
     "execution_count": 72
    }
   ],
   "source": [
    "sig_Features= list(filter(lambda chiVal: chiVal > 3.84,chi_sq_values))\n",
    "sig_Features= pd.Series(sig_Features,chi_sq_values.index[:len(sig_Features)])\n",
    "sig_Features.index"
   ]
  },
  {
   "cell_type": "code",
   "execution_count": 73,
   "metadata": {},
   "outputs": [
    {
     "output_type": "execute_result",
     "data": {
      "text/plain": [
       "avgdomaintokenlen                  0.993084\n",
       "charcompvowels                     0.911420\n",
       "Path_LongestWordLength             0.868772\n",
       "sub-Directory_LongestWordLength    0.587184\n",
       "NumberRate_URL                     0.442371\n",
       "dld_domain                         0.339682\n",
       "pathDomainRatio                    0.305007\n",
       "Directory_LetterCount              0.265838\n",
       "isPortEighty                       0.248489\n",
       "Entropy_URL                        0.161457\n",
       "dtype: float64"
      ]
     },
     "metadata": {},
     "execution_count": 73
    }
   ],
   "source": [
    "# Higher p-value, says that this variable is independent of the Y value and can not be considered for model training\n",
    "p_values.head(10)"
   ]
  },
  {
   "cell_type": "code",
   "execution_count": 74,
   "metadata": {},
   "outputs": [
    {
     "output_type": "execute_result",
     "data": {
      "text/plain": [
       "Filename_LetterCount       3.891527e-33\n",
       "Entropy_DirectoryName      7.487584e-36\n",
       "Entropy_Filename           2.679810e-37\n",
       "argPathRatio               9.901046e-38\n",
       "delimeter_path             9.681864e-40\n",
       "Entropy_Afterpath          3.584071e-41\n",
       "SymbolCount_Domain         1.678641e-41\n",
       "tld                        1.636373e-41\n",
       "domain_token_count         1.636373e-41\n",
       "fileNameLen                1.406341e-70\n",
       "ISIpAddressInDomainName             NaN\n",
       "dtype: float64"
      ]
     },
     "metadata": {},
     "execution_count": 74
    }
   ],
   "source": [
    "# Lower p-value, says that this variable is dependent on the Y value and should be considered for model training\n",
    "p_values.tail(11)"
   ]
  },
  {
   "cell_type": "code",
   "execution_count": null,
   "metadata": {},
   "outputs": [],
   "source": []
  }
 ]
}